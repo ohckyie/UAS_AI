{
 "cells": [
  {
   "cell_type": "code",
   "execution_count": 1,
   "metadata": {},
   "outputs": [],
   "source": [
    "import numpy as np\n",
    "import matplotlib.pyplot as plt\n",
    "%matplotlib inline \n",
    "import seaborn as sns"
   ]
  },
  {
   "cell_type": "code",
   "execution_count": 2,
   "metadata": {},
   "outputs": [],
   "source": [
    "from sklearn.datasets import load_digits\n",
    "from sklearn.model_selection import train_test_split\n",
    "from sklearn.neural_network import MLPClassifier\n",
    "from sklearn.model_selection import train_test_split\n",
    "from sklearn.metrics import accuracy_score\n",
    "from sklearn.metrics import confusion_matrix\n",
    "from sklearn import datasets\n",
    "from mpl_toolkits.mplot3d import Axes3D\n",
    "from sklearn.decomposition import PCA"
   ]
  },
  {
   "cell_type": "code",
   "execution_count": 3,
   "metadata": {},
   "outputs": [],
   "source": [
    "digits = load_digits()\n",
    "iris = datasets.load_iris()"
   ]
  },
  {
   "cell_type": "code",
   "execution_count": 4,
   "metadata": {},
   "outputs": [
    {
     "data": {
      "text/plain": [
       "['sepal length (cm)',\n",
       " 'sepal width (cm)',\n",
       " 'petal length (cm)',\n",
       " 'petal width (cm)']"
      ]
     },
     "execution_count": 4,
     "metadata": {},
     "output_type": "execute_result"
    }
   ],
   "source": [
    "iris.feature_names"
   ]
  },
  {
   "cell_type": "code",
   "execution_count": 7,
   "metadata": {},
   "outputs": [
    {
     "data": {
      "text/plain": [
       "(1797, 64)"
      ]
     },
     "execution_count": 7,
     "metadata": {},
     "output_type": "execute_result"
    }
   ],
   "source": [
    "digits.data.shape"
   ]
  },
  {
   "cell_type": "code",
   "execution_count": 8,
   "metadata": {},
   "outputs": [
    {
     "data": {
      "text/plain": [
       "array([ 0.,  0., 10., 14., 11.,  3.,  0.,  0.,  0.,  4., 16., 13.,  6.,\n",
       "       14.,  1.,  0.,  0.,  4., 16.,  2.,  0., 11.,  7.,  0.,  0.,  8.,\n",
       "       16.,  0.,  0., 10.,  5.,  0.,  0.,  8., 16.,  0.,  0., 14.,  4.,\n",
       "        0.,  0.,  8., 16.,  0.,  1., 16.,  1.,  0.,  0.,  4., 16.,  1.,\n",
       "       11., 15.,  0.,  0.,  0.,  0., 11., 16., 12.,  3.,  0.,  0.])"
      ]
     },
     "execution_count": 8,
     "metadata": {},
     "output_type": "execute_result"
    }
   ],
   "source": [
    "digits.data[30]\n"
   ]
  },
  {
   "cell_type": "code",
   "execution_count": 9,
   "metadata": {},
   "outputs": [
    {
     "data": {
      "text/plain": [
       "array([0, 1, 2, 3, 4, 5, 6, 7, 8, 9])"
      ]
     },
     "execution_count": 9,
     "metadata": {},
     "output_type": "execute_result"
    }
   ],
   "source": [
    "digits.target_names"
   ]
  },
  {
   "cell_type": "code",
   "execution_count": 10,
   "metadata": {},
   "outputs": [
    {
     "data": {
      "text/plain": [
       "(1797,)"
      ]
     },
     "execution_count": 10,
     "metadata": {},
     "output_type": "execute_result"
    }
   ],
   "source": [
    "digits.target.shape"
   ]
  },
  {
   "cell_type": "code",
   "execution_count": 11,
   "metadata": {},
   "outputs": [
    {
     "data": {
      "text/plain": [
       "0"
      ]
     },
     "execution_count": 11,
     "metadata": {},
     "output_type": "execute_result"
    }
   ],
   "source": [
    "digits.target[30]"
   ]
  },
  {
   "cell_type": "code",
   "execution_count": 12,
   "metadata": {},
   "outputs": [
    {
     "data": {
      "text/plain": [
       "<matplotlib.image.AxesImage at 0x10509b50>"
      ]
     },
     "execution_count": 12,
     "metadata": {},
     "output_type": "execute_result"
    },
    {
     "data": {
      "text/plain": [
       "<Figure size 432x288 with 0 Axes>"
      ]
     },
     "metadata": {},
     "output_type": "display_data"
    },
    {
     "data": {
      "image/png": "[encoded data removed]",
      "text/plain": [
       "<Figure size 288x288 with 1 Axes>"
      ]
     },
     "metadata": {
      "needs_background": "light"
     },
     "output_type": "display_data"
    }
   ],
   "source": [
    "import matplotlib.pyplot as plt \n",
    "plt.gray() \n",
    "plt.matshow(digits.images[30]) \n"
   ]
  },
  {
   "cell_type": "code",
   "execution_count": 13,
   "metadata": {},
   "outputs": [],
   "source": [
    "X = digits.data\n",
    "y = digits.target\n",
    "# Membagi data training dan testing(80:20)\n",
    "x_train, x_test, y_train, y_test = train_test_split(X,y, test_size= 0.2, random_state=1)"
   ]
  },
  {
   "cell_type": "code",
   "execution_count": 14,
   "metadata": {},
   "outputs": [
    {
     "data": {
      "text/plain": [
       "(1437, 64)"
      ]
     },
     "execution_count": 14,
     "metadata": {},
     "output_type": "execute_result"
    }
   ],
   "source": [
    "x_train.shape"
   ]
  },
  {
   "cell_type": "code",
   "execution_count": 15,
   "metadata": {},
   "outputs": [
    {
     "data": {
      "text/plain": [
       "(360, 64)"
      ]
     },
     "execution_count": 15,
     "metadata": {},
     "output_type": "execute_result"
    }
   ],
   "source": [
    "x_test.shape"
   ]
  },
  {
   "cell_type": "code",
   "execution_count": 24,
   "metadata": {},
   "outputs": [],
   "source": [
    "clf = MLPClassifier(hidden_layer_sizes=(5,5,5),  max_iter=100, alpha=0.0001,activation='tanh',\n",
    "                     solver='adam', verbose=10,  random_state=21,tol=0.000000001)"
   ]
  },
  {
   "cell_type": "code",
   "execution_count": 25,
   "metadata": {},
   "outputs": [
    {
     "name": "stdout",
     "output_type": "stream",
     "text": [
      "Iteration 1, loss = 2.52458238\n",
      "Iteration 2, loss = 2.47267664\n",
      "Iteration 3, loss = 2.41355618\n",
      "Iteration 4, loss = 2.36821328\n",
      "Iteration 5, loss = 2.33228103\n",
      "Iteration 6, loss = 2.30385936\n",
      "Iteration 7, loss = 2.27817603\n",
      "Iteration 8, loss = 2.25348933\n",
      "Iteration 9, loss = 2.23028913\n",
      "Iteration 10, loss = 2.20750911\n",
      "Iteration 11, loss = 2.18486610\n",
      "Iteration 12, loss = 2.16311917\n",
      "Iteration 13, loss = 2.14149085\n",
      "Iteration 14, loss = 2.12219615\n",
      "Iteration 15, loss = 2.10154385\n",
      "Iteration 16, loss = 2.08029297\n",
      "Iteration 17, loss = 2.05997573\n",
      "Iteration 18, loss = 2.03703319\n",
      "Iteration 19, loss = 2.01425690\n",
      "Iteration 20, loss = 1.99368049\n",
      "Iteration 21, loss = 1.97436650\n",
      "Iteration 22, loss = 1.95496075\n",
      "Iteration 23, loss = 1.93518613\n",
      "Iteration 24, loss = 1.91743199\n",
      "Iteration 25, loss = 1.90018818\n",
      "Iteration 26, loss = 1.88189432\n",
      "Iteration 27, loss = 1.86506442\n",
      "Iteration 28, loss = 1.84791988\n",
      "Iteration 29, loss = 1.83080518\n",
      "Iteration 30, loss = 1.81361764\n",
      "Iteration 31, loss = 1.79830194\n",
      "Iteration 32, loss = 1.77925538\n",
      "Iteration 33, loss = 1.75972459\n",
      "Iteration 34, loss = 1.74370887\n",
      "Iteration 35, loss = 1.72561118\n",
      "Iteration 36, loss = 1.70668450\n",
      "Iteration 37, loss = 1.68920896\n",
      "Iteration 38, loss = 1.67329026\n",
      "Iteration 39, loss = 1.65586064\n",
      "Iteration 40, loss = 1.63907812\n",
      "Iteration 41, loss = 1.62229951\n",
      "Iteration 42, loss = 1.60728483\n",
      "Iteration 43, loss = 1.59354811\n",
      "Iteration 44, loss = 1.57730011\n",
      "Iteration 45, loss = 1.56357471\n",
      "Iteration 46, loss = 1.54963486\n",
      "Iteration 47, loss = 1.53600376\n",
      "Iteration 48, loss = 1.52102575\n",
      "Iteration 49, loss = 1.50879172\n",
      "Iteration 50, loss = 1.49389202\n",
      "Iteration 51, loss = 1.48237949\n",
      "Iteration 52, loss = 1.47131219\n",
      "Iteration 53, loss = 1.45845799\n",
      "Iteration 54, loss = 1.44599857\n",
      "Iteration 55, loss = 1.43325878\n",
      "Iteration 56, loss = 1.42337117\n",
      "Iteration 57, loss = 1.41297318\n",
      "Iteration 58, loss = 1.40243171\n",
      "Iteration 59, loss = 1.39166282\n",
      "Iteration 60, loss = 1.38073183\n",
      "Iteration 61, loss = 1.37107338\n",
      "Iteration 62, loss = 1.36213910\n",
      "Iteration 63, loss = 1.35070255\n",
      "Iteration 64, loss = 1.34630649\n",
      "Iteration 65, loss = 1.33566563\n",
      "Iteration 66, loss = 1.32640546\n",
      "Iteration 67, loss = 1.31754727\n",
      "Iteration 68, loss = 1.31381514\n",
      "Iteration 69, loss = 1.30266149\n",
      "Iteration 70, loss = 1.29833233\n",
      "Iteration 71, loss = 1.28923106\n",
      "Iteration 72, loss = 1.28047597\n",
      "Iteration 73, loss = 1.27472924\n",
      "Iteration 74, loss = 1.26738615\n",
      "Iteration 75, loss = 1.26134166\n",
      "Iteration 76, loss = 1.25543209\n",
      "Iteration 77, loss = 1.24864857\n",
      "Iteration 78, loss = 1.24336438\n",
      "Iteration 79, loss = 1.23787890\n",
      "Iteration 80, loss = 1.23052517\n",
      "Iteration 81, loss = 1.22358755\n",
      "Iteration 82, loss = 1.22065314\n",
      "Iteration 83, loss = 1.21164154\n",
      "Iteration 84, loss = 1.20657350\n",
      "Iteration 85, loss = 1.20070201\n",
      "Iteration 86, loss = 1.19705573\n",
      "Iteration 87, loss = 1.18869587\n",
      "Iteration 88, loss = 1.18340934\n",
      "Iteration 89, loss = 1.17770528\n",
      "Iteration 90, loss = 1.17171356\n",
      "Iteration 91, loss = 1.16728947\n",
      "Iteration 92, loss = 1.16243939\n",
      "Iteration 93, loss = 1.15424799\n",
      "Iteration 94, loss = 1.15231285\n",
      "Iteration 95, loss = 1.14386510\n",
      "Iteration 96, loss = 1.13685600\n",
      "Iteration 97, loss = 1.12907179\n",
      "Iteration 98, loss = 1.12341123\n",
      "Iteration 99, loss = 1.11736350\n",
      "Iteration 100, loss = 1.11019519\n"
     ]
    },
    {
     "name": "stderr",
     "output_type": "stream",
     "text": [
      "c:\\users\\user\\appdata\\local\\programs\\python\\python37-32\\lib\\site-packages\\sklearn\\neural_network\\multilayer_perceptron.py:562: ConvergenceWarning: Stochastic Optimizer: Maximum iterations (100) reached and the optimization hasn't converged yet.\n",
      "  % self.max_iter, ConvergenceWarning)\n"
     ]
    }
   ],
   "source": [
    "clf.fit(x_train, y_train)\n",
    "y_pred = clf.predict(x_test)"
   ]
  },
  {
   "cell_type": "code",
   "execution_count": 26,
   "metadata": {},
   "outputs": [],
   "source": [
    "loss_values = clf.loss_curve_"
   ]
  },
  {
   "cell_type": "code",
   "execution_count": 27,
   "metadata": {},
   "outputs": [
    {
     "data": {
      "text/plain": [
       "[<matplotlib.lines.Line2D at 0x3b38470>]"
      ]
     },
     "execution_count": 27,
     "metadata": {},
     "output_type": "execute_result"
    },
    {
     "data": {
      "image/png": "[encoded data removed]",
      "text/plain": [
       "<Figure size 432x288 with 1 Axes>"
      ]
     },
     "metadata": {
      "needs_background": "light"
     },
     "output_type": "display_data"
    }
   ],
   "source": [
    "plt.plot(loss_values)"
   ]
  },
  {
   "cell_type": "code",
   "execution_count": 28,
   "metadata": {},
   "outputs": [
    {
     "data": {
      "text/plain": [
       "0.66"
      ]
     },
     "execution_count": 28,
     "metadata": {},
     "output_type": "execute_result"
    }
   ],
   "source": [
    "round(accuracy_score(y_test, y_pred),2)"
   ]
  },
  {
   "cell_type": "code",
   "execution_count": 29,
   "metadata": {},
   "outputs": [
    {
     "data": {
      "text/plain": [
       "array([[40,  0,  0,  0,  2,  0,  1,  0,  0,  0],\n",
       "       [ 0, 18,  4,  1,  0,  0,  0,  0,  7,  5],\n",
       "       [ 8,  2,  2,  0,  0,  0, 24,  0,  0,  0],\n",
       "       [ 1,  0,  0, 32,  0,  2,  0,  1,  1,  4],\n",
       "       [ 0,  0,  0,  0, 32,  0,  5,  0,  0,  1],\n",
       "       [ 0,  0,  0,  3,  6, 15,  3,  1,  0,  2],\n",
       "       [ 1,  0,  3,  0,  1,  0, 30,  2,  0,  0],\n",
       "       [ 0,  0,  0,  2,  0,  1,  0, 30,  1,  3],\n",
       "       [ 1,  1,  0,  2,  0,  1,  0,  1, 19,  4],\n",
       "       [ 0,  0,  0,  0,  0,  0,  0,  2, 12, 20]], dtype=int64)"
      ]
     },
     "execution_count": 29,
     "metadata": {},
     "output_type": "execute_result"
    }
   ],
   "source": [
    "cm = confusion_matrix(y_test, y_pred)\n",
    "cm"
   ]
  },
  {
   "cell_type": "code",
   "execution_count": 30,
   "metadata": {},
   "outputs": [
    {
     "data": {
      "image/png": "[encoded data removed]",
      "text/plain": [
       "<Figure size 432x288 with 2 Axes>"
      ]
     },
     "metadata": {
      "needs_background": "light"
     },
     "output_type": "display_data"
    }
   ],
   "source": [
    "sns.heatmap(cm, center=True,annot=True)\n",
    "plt.show()"
   ]
  },
  {
   "cell_type": "code",
   "execution_count": null,
   "metadata": {},
   "outputs": [],
   "source": []
  }
 ],
 "metadata": {
  "kernelspec": {
   "display_name": "Python 3",
   "language": "python",
   "name": "python3"
  },
  "language_info": {
   "codemirror_mode": {
    "name": "ipython",
    "version": 3
   },
   "file_extension": ".py",
   "mimetype": "text/x-python",
   "name": "python",
   "nbconvert_exporter": "python",
   "pygments_lexer": "ipython3",
   "version": "3.7.0"
  }
 },
 "nbformat": 4,
 "nbformat_minor": 2
}
